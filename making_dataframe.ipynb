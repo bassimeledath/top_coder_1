{
 "cells": [
  {
   "cell_type": "code",
   "execution_count": 67,
   "metadata": {},
   "outputs": [],
   "source": [
    "# dependencies\n",
    "\n",
    "import numpy as np\n",
    "import pandas as pd\n",
    "import matplotlib.pyplot as plt\n",
    "import seaborn as sns\n",
    "from tqdm import tqdm"
   ]
  },
  {
   "cell_type": "code",
   "execution_count": 8,
   "metadata": {},
   "outputs": [],
   "source": [
    "benefits = pd.read_csv('benefits.csv')\n",
    "exposure = pd.read_csv('exposure.csv')"
   ]
  },
  {
   "cell_type": "code",
   "execution_count": 101,
   "metadata": {},
   "outputs": [],
   "source": [
    "covg_group = exposure.groupby(by='Covg_Code').mean()\n",
    "covg_group['score'] = covg_group['Contract_Exposure'] + covg_group['Member_Exposure']\n",
    "covg_group['score'] = np.log(covg_group['score'])"
   ]
  },
  {
   "cell_type": "code",
   "execution_count": 65,
   "metadata": {},
   "outputs": [],
   "source": [
    "covg_dic = {}\n",
    "for index, row in covg_group.iterrows():\n",
    "    covg_dic[str(index)] = row['sum']\n",
    "    \n",
    "score = []\n",
    "for index, row in tqdm(benefits.iterrows()):\n",
    "    score.append(round(covg_dic[row['covg_code']],2))\n",
    "benefits['score'] = score"
   ]
  },
  {
   "cell_type": "code",
   "execution_count": 150,
   "metadata": {},
   "outputs": [],
   "source": [
    "claims = pd.read_csv('claim_aggs.csv')\n",
    "claims['score'] = np.log(claims['Claim_Count'] + claims['Person_Count'])"
   ]
  },
  {
   "cell_type": "code",
   "execution_count": 161,
   "metadata": {},
   "outputs": [],
   "source": [
    "claim_dic = {}\n",
    "for index, row in claims.iterrows():\n",
    "    claim_dic[row['Covg_Code']] = row['score']"
   ]
  },
  {
   "cell_type": "code",
   "execution_count": 202,
   "metadata": {},
   "outputs": [
    {
     "name": "stderr",
     "output_type": "stream",
     "text": [
      "423909it [01:24, 5023.30it/s]\n"
     ]
    }
   ],
   "source": [
    "score = []\n",
    "for index, row in tqdm(benefits.iterrows()):\n",
    "    if str(row['covg_code']) in claim_dic.keys():\n",
    "        score.append(round(claim_dic[str(row['covg_code'])],2))\n",
    "    else:\n",
    "        score.append(0)\n",
    "benefits['score_claims'] = score"
   ]
  },
  {
   "cell_type": "code",
   "execution_count": 591,
   "metadata": {},
   "outputs": [],
   "source": [
    "def make_df(df):\n",
    "    dic = {}\n",
    "    for index, row in df.iterrows():\n",
    "        if row['value_flag'] in [\"Text\",\"Numeric\"]:\n",
    "            question = row['answer'].split(':')[0]\n",
    "            answer = row['answer'].split(':')[1:]\n",
    "            first_score = row['score']\n",
    "            second_score = row['score_claims']\n",
    "            cov_code = row['covg_code']\n",
    "            ans_tag = row['answer_tag']\n",
    "            tag = row['type_of_tag']\n",
    "            if row['top_50_flag'] == \"Y\":\n",
    "                top_50 = 'top_50'\n",
    "            else:\n",
    "                top_50 = 'not_top_50'\n",
    "            if question not in dic:\n",
    "                dic[question] = [[answer],[answer],[cov_code],[first_score],[second_score],[top_50],[ans_tag],[tag]]\n",
    "            else:\n",
    "                sub_ = dic[question][0] + [answer]\n",
    "                dic[question] = [[list(item) for item in set(tuple(row) for row in sub_)],dic[question][1] + [answer],list(set(dic[question][2] +[cov_code])),dic[question][3] + [first_score],dic[question][4] + [second_score],dic[question][5] + [top_50],list(set(dic[question][6] +[ans_tag])),list(set(dic[question][7] +[tag]))]\n",
    "        if row['value_flag'] not in [\"Text\",\"Numeric\"]:\n",
    "            question = row['answer']\n",
    "            answer = 'This is a non-text non-numeric answer'\n",
    "            first_score = row['score']\n",
    "            second_score = row['score_claims']\n",
    "            cov_code = row['covg_code']\n",
    "            ans_tag = row['answer_tag']\n",
    "            tag = row['type_of_tag']\n",
    "            if row['top_50_flag'] == \"Y\":\n",
    "                top_50 = 'top_50'\n",
    "            else:\n",
    "                top_50 = 'not_top_50'\n",
    "            if question not in dic:\n",
    "                dic[question] = [answer,'none',[cov_code],[first_score],[second_score],[top_50],[ans_tag],[tag]]\n",
    "            else:\n",
    "                dic[question] = [answer,'none',list(set(dic[question][2]+[cov_code])),dic[question][3] + [first_score],dic[question][4] + [second_score],dic[question][5] + [top_50],list(set(dic[question][6] +[ans_tag])),list(set(dic[question][7] +[tag]))]\n",
    "    return pd.DataFrame.from_dict(dic,orient='index')\n",
    "    \n",
    "        \n",
    "    "
   ]
  },
  {
   "cell_type": "code",
   "execution_count": 592,
   "metadata": {},
   "outputs": [],
   "source": [
    "df = make_df(benefits)"
   ]
  },
  {
   "cell_type": "code",
   "execution_count": 593,
   "metadata": {},
   "outputs": [],
   "source": [
    "df.columns = ['unique_configs','all_configs','covg_codes','pop_score','claim_score','top50_status','ans_tag','type_tag']"
   ]
  },
  {
   "cell_type": "code",
   "execution_count": 594,
   "metadata": {},
   "outputs": [],
   "source": [
    "num_config = []\n",
    "for val1,val2 in zip(df['unique_configs'],df['all_configs']):\n",
    "    if val2 == 'none':\n",
    "        num_config.append(0)\n",
    "    else:\n",
    "        num_config.append(len(val1))\n",
    "df['num_config'] = num_config"
   ]
  },
  {
   "cell_type": "code",
   "execution_count": 595,
   "metadata": {},
   "outputs": [],
   "source": [
    "def mean(lst): \n",
    "    return sum(lst) / len(lst) "
   ]
  },
  {
   "cell_type": "code",
   "execution_count": 596,
   "metadata": {},
   "outputs": [],
   "source": [
    "opt_score = []\n",
    "opt_claim = []\n",
    "for val1,val2 in zip(df['pop_score'],df['claim_score']):\n",
    "    opt_score.append(round(mean(val1),2))\n",
    "    opt_claim.append(round(mean(val2),2))\n",
    "df['mean_expo_score'] = opt_score\n",
    "df['mean_claim_score'] = opt_claim"
   ]
  },
  {
   "cell_type": "code",
   "execution_count": 597,
   "metadata": {},
   "outputs": [],
   "source": [
    "count50 = []\n",
    "ratio50 = []\n",
    "for val in df['top50_status']:\n",
    "    top_50_count = val.count(\"top_50\")\n",
    "    top_50_ratio = round(val.count(\"top_50\")/(val.count(\"top_50\")+val.count(\"not_top_50\")),2)\n",
    "    count50.append(top_50_count)\n",
    "    ratio50.append(top_50_ratio)\n",
    "df['top_50_count'] = count50\n",
    "df['top_50_ratio'] = ratio50"
   ]
  },
  {
   "cell_type": "code",
   "execution_count": 598,
   "metadata": {},
   "outputs": [],
   "source": [
    "num_cov = []\n",
    "for val in df['covg_codes']:\n",
    "    num_cov.append(len(val))\n",
    "df['num_cov_codes'] = num_cov"
   ]
  },
  {
   "cell_type": "code",
   "execution_count": 599,
   "metadata": {},
   "outputs": [],
   "source": [
    "df.drop(['top50_status','pop_score','claim_score'],axis=1,inplace=True)"
   ]
  },
  {
   "cell_type": "code",
   "execution_count": 617,
   "metadata": {},
   "outputs": [],
   "source": [
    "#df.to_csv('final_output.csv')"
   ]
  },
  {
   "cell_type": "code",
   "execution_count": null,
   "metadata": {},
   "outputs": [],
   "source": []
  },
  {
   "cell_type": "code",
   "execution_count": null,
   "metadata": {},
   "outputs": [],
   "source": []
  }
 ],
 "metadata": {
  "kernelspec": {
   "display_name": "Python 3",
   "language": "python",
   "name": "python3"
  },
  "language_info": {
   "codemirror_mode": {
    "name": "ipython",
    "version": 3
   },
   "file_extension": ".py",
   "mimetype": "text/x-python",
   "name": "python",
   "nbconvert_exporter": "python",
   "pygments_lexer": "ipython3",
   "version": "3.6.8"
  }
 },
 "nbformat": 4,
 "nbformat_minor": 2
}
