{
 "cells": [
  {
   "cell_type": "code",
   "execution_count": 69,
   "metadata": {},
   "outputs": [],
   "source": [
    "# Dependencies\n",
    "\n",
    "import pandas as pd\n",
    "import numpy as np\n",
    "from sklearn.model_selection import train_test_split\n",
    "from sklearn.linear_model import LinearRegression\n",
    "import xgboost as xgb\n",
    "from sklearn.metrics import auc, accuracy_score, confusion_matrix, mean_squared_error\n",
    "import warnings\n",
    "warnings.filterwarnings(\"ignore\")"
   ]
  },
  {
   "cell_type": "code",
   "execution_count": 70,
   "metadata": {},
   "outputs": [],
   "source": [
    "# Data preprocessing\n",
    "\n",
    "data_raw = pd.read_csv('activity_sample_data.csv',nrows=900,index_col='id')\n",
    "data_raw = data_raw[['activitytypeid','exchangerate','totalactivitycost','planid','activityrejectionreasonid']]\n",
    "data_raw = data_raw.fillna(0)\n",
    "data_raw['rejection_decision'] = [0 if x != 0 else 1 for x in data_raw['activityrejectionreasonid']] #1 indicates decision was accepted\n",
    "data_raw = pd.get_dummies(data_raw)\n",
    "X_regression = data_raw[[x for x in data_raw.columns if x not in ['totalactivitycost','rejection_decision']]]\n",
    "y_regression = data_raw['totalactivitycost']\n",
    "X_classification = data_raw[[x for x in data_raw.columns if x not in ['totalactivitycost','rejection_decision']]]\n",
    "y_classification = data_raw['rejection_decision']"
   ]
  },
  {
   "cell_type": "code",
   "execution_count": 71,
   "metadata": {},
   "outputs": [],
   "source": [
    "# Train test split for regression algorithms\n",
    "\n",
    "reg_train, reg_test, regy_train, regy_test = train_test_split(X_regression, y_regression, test_size=0.2, random_state=42)"
   ]
  },
  {
   "cell_type": "code",
   "execution_count": 72,
   "metadata": {},
   "outputs": [],
   "source": [
    "# Train test split for classification algorithms\n",
    "\n",
    "class_train, class_test, classy_train, classy_test = train_test_split(X_classification, y_classification, test_size=0.2, random_state=42)"
   ]
  },
  {
   "cell_type": "code",
   "execution_count": 73,
   "metadata": {},
   "outputs": [
    {
     "name": "stdout",
     "output_type": "stream",
     "text": [
      "[[  4   0]\n",
      " [  0 176]]\n"
     ]
    }
   ],
   "source": [
    "# Binary Classification Model - Gradient Boosted Tree\n",
    "\n",
    "X_train = class_train.as_matrix()\n",
    "X_test = class_test.as_matrix()\n",
    "xgb_model = xgb.XGBClassifier(objective=\"binary:logistic\", random_state=42)\n",
    "xgb_model.fit(X_train,classy_train)\n",
    "y_pred = xgb_model.predict(X_test)\n",
    "print(confusion_matrix(classy_test, y_pred))"
   ]
  },
  {
   "cell_type": "code",
   "execution_count": 74,
   "metadata": {},
   "outputs": [
    {
     "name": "stdout",
     "output_type": "stream",
     "text": [
      "279222.14071035694\n"
     ]
    }
   ],
   "source": [
    "# OLS multiple Regression\n",
    "\n",
    "reg = LinearRegression().fit(np.array(reg_train), np.array(regy_train))\n",
    "predictions = reg.predict(reg_test)\n",
    "\n",
    "# More complicated Regression model\n",
    "\n",
    "X_train = reg_train.as_matrix()\n",
    "X_test = reg_test.as_matrix()\n",
    "xgb_model = xgb.XGBRegressor(objective=\"reg:linear\", random_state=42)\n",
    "xgb_model.fit(X_train, regy_train)\n",
    "y_pred = xgb_model.predict(X_test)\n",
    "mse=mean_squared_error(regy_test, y_pred)\n",
    "print(np.sqrt(mse))"
   ]
  },
  {
   "cell_type": "code",
   "execution_count": null,
   "metadata": {},
   "outputs": [],
   "source": []
  }
 ],
 "metadata": {
  "kernelspec": {
   "display_name": "Python 3",
   "language": "python",
   "name": "python3"
  },
  "language_info": {
   "codemirror_mode": {
    "name": "ipython",
    "version": 3
   },
   "file_extension": ".py",
   "mimetype": "text/x-python",
   "name": "python",
   "nbconvert_exporter": "python",
   "pygments_lexer": "ipython3",
   "version": "3.6.8"
  }
 },
 "nbformat": 4,
 "nbformat_minor": 2
}
